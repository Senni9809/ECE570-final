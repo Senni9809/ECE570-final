{
  "nbformat": 4,
  "nbformat_minor": 0,
  "metadata": {
    "colab": {
      "provenance": []
    },
    "kernelspec": {
      "name": "python3",
      "display_name": "Python 3"
    },
    "language_info": {
      "name": "python"
    }
  },
  "cells": [
    {
      "cell_type": "code",
      "source": [
        "from google.colab import drive\n",
        "drive.flush_and_unmount()"
      ],
      "metadata": {
        "id": "fEMrtI_lZMdr"
      },
      "execution_count": null,
      "outputs": []
    },
    {
      "cell_type": "code",
      "execution_count": 1,
      "metadata": {
        "colab": {
          "base_uri": "https://localhost:8080/"
        },
        "id": "5OqKJ2ldR8mR",
        "outputId": "011f1bd3-51db-4919-fb86-0ed4a93e848a"
      },
      "outputs": [
        {
          "output_type": "stream",
          "name": "stdout",
          "text": [
            "Mounted at /content/drive\n"
          ]
        }
      ],
      "source": [
        "from google.colab import drive\n",
        "drive.mount('/content/drive')"
      ]
    },
    {
      "cell_type": "code",
      "source": [
        "with open(\"/content/drive/MyDrive/Colab Notebooks/Purdue Coursework/ECE570_Project/chb03_04.edf.seizures\", \"r\", encoding=\"utf-8\", errors=\"ignore\") as f:\n",
        "    print(f.read())\n"
      ],
      "metadata": {
        "colab": {
          "base_uri": "https://localhost:8080/"
        },
        "id": "4aEZtiGtIE_V",
        "outputId": "006f1cf8-48f2-4e1c-a4cf-9c160c68152e"
      },
      "execution_count": 2,
      "outputs": [
        {
          "output_type": "stream",
          "name": "stdout",
          "text": [
            "\u0000X\u0017## time resolution: 256\u0000\u0000\u0001\u0000\u0000\b\u0000\u0000r\u0000\u0000\u0000\u0000\u00004\u0000\u0000\u0000\n"
          ]
        }
      ]
    },
    {
      "cell_type": "code",
      "source": [
        "!pip install mne"
      ],
      "metadata": {
        "colab": {
          "base_uri": "https://localhost:8080/"
        },
        "id": "Jw6EmiVFhEb5",
        "outputId": "55da610c-24cd-4315-bf98-265a8e002ec1"
      },
      "execution_count": 4,
      "outputs": [
        {
          "output_type": "stream",
          "name": "stdout",
          "text": [
            "Collecting mne\n",
            "  Downloading mne-1.9.0-py3-none-any.whl.metadata (20 kB)\n",
            "Requirement already satisfied: decorator in /usr/local/lib/python3.11/dist-packages (from mne) (4.4.2)\n",
            "Requirement already satisfied: jinja2 in /usr/local/lib/python3.11/dist-packages (from mne) (3.1.6)\n",
            "Requirement already satisfied: lazy-loader>=0.3 in /usr/local/lib/python3.11/dist-packages (from mne) (0.4)\n",
            "Requirement already satisfied: matplotlib>=3.6 in /usr/local/lib/python3.11/dist-packages (from mne) (3.10.0)\n",
            "Requirement already satisfied: numpy<3,>=1.23 in /usr/local/lib/python3.11/dist-packages (from mne) (2.0.2)\n",
            "Requirement already satisfied: packaging in /usr/local/lib/python3.11/dist-packages (from mne) (24.2)\n",
            "Requirement already satisfied: pooch>=1.5 in /usr/local/lib/python3.11/dist-packages (from mne) (1.8.2)\n",
            "Requirement already satisfied: scipy>=1.9 in /usr/local/lib/python3.11/dist-packages (from mne) (1.14.1)\n",
            "Requirement already satisfied: tqdm in /usr/local/lib/python3.11/dist-packages (from mne) (4.67.1)\n",
            "Requirement already satisfied: contourpy>=1.0.1 in /usr/local/lib/python3.11/dist-packages (from matplotlib>=3.6->mne) (1.3.1)\n",
            "Requirement already satisfied: cycler>=0.10 in /usr/local/lib/python3.11/dist-packages (from matplotlib>=3.6->mne) (0.12.1)\n",
            "Requirement already satisfied: fonttools>=4.22.0 in /usr/local/lib/python3.11/dist-packages (from matplotlib>=3.6->mne) (4.57.0)\n",
            "Requirement already satisfied: kiwisolver>=1.3.1 in /usr/local/lib/python3.11/dist-packages (from matplotlib>=3.6->mne) (1.4.8)\n",
            "Requirement already satisfied: pillow>=8 in /usr/local/lib/python3.11/dist-packages (from matplotlib>=3.6->mne) (11.1.0)\n",
            "Requirement already satisfied: pyparsing>=2.3.1 in /usr/local/lib/python3.11/dist-packages (from matplotlib>=3.6->mne) (3.2.3)\n",
            "Requirement already satisfied: python-dateutil>=2.7 in /usr/local/lib/python3.11/dist-packages (from matplotlib>=3.6->mne) (2.8.2)\n",
            "Requirement already satisfied: platformdirs>=2.5.0 in /usr/local/lib/python3.11/dist-packages (from pooch>=1.5->mne) (4.3.7)\n",
            "Requirement already satisfied: requests>=2.19.0 in /usr/local/lib/python3.11/dist-packages (from pooch>=1.5->mne) (2.32.3)\n",
            "Requirement already satisfied: MarkupSafe>=2.0 in /usr/local/lib/python3.11/dist-packages (from jinja2->mne) (3.0.2)\n",
            "Requirement already satisfied: six>=1.5 in /usr/local/lib/python3.11/dist-packages (from python-dateutil>=2.7->matplotlib>=3.6->mne) (1.17.0)\n",
            "Requirement already satisfied: charset-normalizer<4,>=2 in /usr/local/lib/python3.11/dist-packages (from requests>=2.19.0->pooch>=1.5->mne) (3.4.1)\n",
            "Requirement already satisfied: idna<4,>=2.5 in /usr/local/lib/python3.11/dist-packages (from requests>=2.19.0->pooch>=1.5->mne) (3.10)\n",
            "Requirement already satisfied: urllib3<3,>=1.21.1 in /usr/local/lib/python3.11/dist-packages (from requests>=2.19.0->pooch>=1.5->mne) (2.3.0)\n",
            "Requirement already satisfied: certifi>=2017.4.17 in /usr/local/lib/python3.11/dist-packages (from requests>=2.19.0->pooch>=1.5->mne) (2025.1.31)\n",
            "Downloading mne-1.9.0-py3-none-any.whl (7.4 MB)\n",
            "\u001b[2K   \u001b[90m━━━━━━━━━━━━━━━━━━━━━━━━━━━━━━━━━━━━━━━━\u001b[0m \u001b[32m7.4/7.4 MB\u001b[0m \u001b[31m82.6 MB/s\u001b[0m eta \u001b[36m0:00:00\u001b[0m\n",
            "\u001b[?25hInstalling collected packages: mne\n",
            "Successfully installed mne-1.9.0\n"
          ]
        }
      ]
    },
    {
      "cell_type": "code",
      "source": [
        "import os\n",
        "import pickle\n",
        "import numpy as np\n",
        "import mne\n",
        "from pathlib import Path"
      ],
      "metadata": {
        "id": "JfzIb_HESCN5"
      },
      "execution_count": 5,
      "outputs": []
    },
    {
      "cell_type": "code",
      "source": [
        "# Set up EDF and seizure directory paths\n",
        "edf_dir = \"/content/drive/MyDrive/Colab Notebooks/Purdue Coursework/ECE570_Project\"\n",
        "seizure_dir = Path(edf_dir)\n",
        "\n",
        "# List of EDF files to include in dataset\n",
        "edf_files_train_val = [os.path.join(edf_dir, fname) for fname in [\n",
        "    \"chb01_03.edf\", \"chb01_04.edf\", \"chb01_15.edf\", \"chb01_16.edf\", \"chb01_18.edf\",\n",
        "    \"chb03_01.edf\", \"chb03_02.edf\", \"chb03_03.edf\", \"chb03_04.edf\"\n",
        "]]\n",
        "\n",
        "edf_files_test = [os.path.join(edf_dir, fname) for fname in [\n",
        "    \"chb05_06.edf\", \"chb05_13.edf\", \"chb05_16.edf\", \"chb05_17.edf\"\n",
        "]]"
      ],
      "metadata": {
        "id": "N98NZWG9SftK"
      },
      "execution_count": 6,
      "outputs": []
    },
    {
      "cell_type": "code",
      "source": [
        "seizure_intervals = {\n",
        " 'chb01_03.edf': [(2996, 3036)],\n",
        " 'chb01_04.edf': [(1467, 1494)],\n",
        " 'chb01_15.edf': [(1732, 1772)],\n",
        " 'chb01_16.edf': [(1015, 1066)],\n",
        " 'chb01_18.edf': [(1720, 1810)],\n",
        " 'chb01_21.edf': [(327, 420)],\n",
        " 'chb01_26.edf': [(1862, 1963)],\n",
        " 'chb03_01.edf': [(362, 414)],\n",
        " 'chb03_02.edf': [(731, 796)],\n",
        " 'chb03_03.edf': [(432, 501)],\n",
        " 'chb03_04.edf': [(2162, 2214)],\n",
        " 'chb03_34.edf': [(1982, 2029)],\n",
        " 'chb03_35.edf': [(2592, 2656)],\n",
        " 'chb03_36.edf': [(1725, 1778)],\n",
        " 'chb05_06.edf': [(417, 532)],\n",
        " 'chb05_13.edf': [(1086, 1196)],\n",
        " 'chb05_16.edf': [(2317, 2413)],\n",
        " 'chb05_17.edf': [(2451, 2571)],\n",
        " 'chb05_22.edf': [(2348, 2465)]\n",
        "}\n"
      ],
      "metadata": {
        "id": "t6WXjW1XYxZd"
      },
      "execution_count": 7,
      "outputs": []
    },
    {
      "cell_type": "code",
      "source": [
        "print(seizure_intervals)"
      ],
      "metadata": {
        "colab": {
          "base_uri": "https://localhost:8080/"
        },
        "id": "_r4j7jxvGhm0",
        "outputId": "2f28c3a8-bdb3-4fc5-cd23-1a60792ae47e"
      },
      "execution_count": 8,
      "outputs": [
        {
          "output_type": "stream",
          "name": "stdout",
          "text": [
            "{'chb01_03.edf': [(2996, 3036)], 'chb01_04.edf': [(1467, 1494)], 'chb01_15.edf': [(1732, 1772)], 'chb01_16.edf': [(1015, 1066)], 'chb01_18.edf': [(1720, 1810)], 'chb01_21.edf': [(327, 420)], 'chb01_26.edf': [(1862, 1963)], 'chb03_01.edf': [(362, 414)], 'chb03_02.edf': [(731, 796)], 'chb03_03.edf': [(432, 501)], 'chb03_04.edf': [(2162, 2214)], 'chb03_34.edf': [(1982, 2029)], 'chb03_35.edf': [(2592, 2656)], 'chb03_36.edf': [(1725, 1778)], 'chb05_06.edf': [(417, 532)], 'chb05_13.edf': [(1086, 1196)], 'chb05_16.edf': [(2317, 2413)], 'chb05_17.edf': [(2451, 2571)], 'chb05_22.edf': [(2348, 2465)]}\n"
          ]
        }
      ]
    },
    {
      "cell_type": "code",
      "source": [
        "sampling_rate = 256\n",
        "window_sec = 5\n",
        "window_size = sampling_rate * window_sec\n",
        "target_seizure = 80\n",
        "target_nonseizure = 400"
      ],
      "metadata": {
        "id": "jGrrhbI2Y0wa"
      },
      "execution_count": 9,
      "outputs": []
    },
    {
      "cell_type": "code",
      "source": [
        "def extract_segments(edf_files, seizure_intervals, target_seizure=80, target_nonseizure=400):\n",
        "    X_final, y_final = [], []\n",
        "    for edf_path in edf_files:\n",
        "        edf_name = os.path.basename(edf_path)\n",
        "        raw = mne.io.read_raw_edf(edf_path, preload=False, verbose=False)\n",
        "        seizure_ranges = seizure_intervals.get(edf_name, [])\n",
        "        n_samples = int(raw.n_times)\n",
        "        n_channels = len(raw.info['ch_names'])\n",
        "\n",
        "        for start_idx in range(0, n_samples - window_size + 1, sampling_rate):\n",
        "            end_idx = start_idx + window_size\n",
        "            center_sec = (start_idx + end_idx) / 2 / sampling_rate\n",
        "            is_seizure = any(sz_start <= center_sec <= sz_end for sz_start, sz_end in seizure_ranges)\n",
        "\n",
        "            if not is_seizure and (start_idx % (5 * sampling_rate) != 0):\n",
        "                continue\n",
        "            if is_seizure and y_final.count(1) >= target_seizure:\n",
        "                continue\n",
        "            if not is_seizure and y_final.count(0) >= target_nonseizure:\n",
        "                continue\n",
        "\n",
        "            try:\n",
        "                segment = raw.get_data(start=start_idx, stop=end_idx)\n",
        "                if segment.shape != (n_channels, window_size):\n",
        "                    continue\n",
        "                X_final.append(segment.astype(np.float32))\n",
        "                y_final.append(1 if is_seizure else 0)\n",
        "            except Exception:\n",
        "                continue\n",
        "    return np.stack(X_final), np.array(y_final)\n"
      ],
      "metadata": {
        "id": "plNLYFh-hVgW"
      },
      "execution_count": 10,
      "outputs": []
    },
    {
      "cell_type": "code",
      "source": [
        "# Train/Val\n",
        "X_trainval, y_trainval = extract_segments(edf_files_train_val, seizure_intervals)\n",
        "with open(os.path.join(edf_dir, \"trainval.pkl\"), \"wb\") as f:\n",
        "    pickle.dump({\"data\": X_trainval, \"labels\": y_trainval}, f)\n",
        "\n",
        "# Test\n",
        "X_test, y_test = extract_segments(edf_files_test, seizure_intervals)\n",
        "with open(os.path.join(edf_dir, \"test.pkl\"), \"wb\") as f:\n",
        "    pickle.dump({\"data\": X_test, \"labels\": y_test}, f)\n"
      ],
      "metadata": {
        "colab": {
          "base_uri": "https://localhost:8080/"
        },
        "id": "Tjib9vE8hbZe",
        "outputId": "db8cf3c1-829f-4ec5-f805-c3902adddaae"
      },
      "execution_count": 13,
      "outputs": [
        {
          "output_type": "stream",
          "name": "stderr",
          "text": [
            "<ipython-input-10-acee57bf1065>:5: RuntimeWarning: Channel names are not unique, found duplicates for: {'T8-P8'}. Applying running numbers for duplicates.\n",
            "  raw = mne.io.read_raw_edf(edf_path, preload=False, verbose=False)\n",
            "<ipython-input-10-acee57bf1065>:5: RuntimeWarning: Channel names are not unique, found duplicates for: {'T8-P8'}. Applying running numbers for duplicates.\n",
            "  raw = mne.io.read_raw_edf(edf_path, preload=False, verbose=False)\n",
            "<ipython-input-10-acee57bf1065>:5: RuntimeWarning: Channel names are not unique, found duplicates for: {'T8-P8'}. Applying running numbers for duplicates.\n",
            "  raw = mne.io.read_raw_edf(edf_path, preload=False, verbose=False)\n",
            "<ipython-input-10-acee57bf1065>:5: RuntimeWarning: Channel names are not unique, found duplicates for: {'T8-P8'}. Applying running numbers for duplicates.\n",
            "  raw = mne.io.read_raw_edf(edf_path, preload=False, verbose=False)\n",
            "<ipython-input-10-acee57bf1065>:5: RuntimeWarning: Channel names are not unique, found duplicates for: {'T8-P8'}. Applying running numbers for duplicates.\n",
            "  raw = mne.io.read_raw_edf(edf_path, preload=False, verbose=False)\n",
            "<ipython-input-10-acee57bf1065>:5: RuntimeWarning: Channel names are not unique, found duplicates for: {'T8-P8'}. Applying running numbers for duplicates.\n",
            "  raw = mne.io.read_raw_edf(edf_path, preload=False, verbose=False)\n",
            "<ipython-input-10-acee57bf1065>:5: RuntimeWarning: Channel names are not unique, found duplicates for: {'T8-P8'}. Applying running numbers for duplicates.\n",
            "  raw = mne.io.read_raw_edf(edf_path, preload=False, verbose=False)\n",
            "<ipython-input-10-acee57bf1065>:5: RuntimeWarning: Channel names are not unique, found duplicates for: {'T8-P8'}. Applying running numbers for duplicates.\n",
            "  raw = mne.io.read_raw_edf(edf_path, preload=False, verbose=False)\n",
            "<ipython-input-10-acee57bf1065>:5: RuntimeWarning: Channel names are not unique, found duplicates for: {'T8-P8'}. Applying running numbers for duplicates.\n",
            "  raw = mne.io.read_raw_edf(edf_path, preload=False, verbose=False)\n",
            "<ipython-input-10-acee57bf1065>:5: RuntimeWarning: Channel names are not unique, found duplicates for: {'T8-P8'}. Applying running numbers for duplicates.\n",
            "  raw = mne.io.read_raw_edf(edf_path, preload=False, verbose=False)\n",
            "<ipython-input-10-acee57bf1065>:5: RuntimeWarning: Channel names are not unique, found duplicates for: {'T8-P8'}. Applying running numbers for duplicates.\n",
            "  raw = mne.io.read_raw_edf(edf_path, preload=False, verbose=False)\n",
            "<ipython-input-10-acee57bf1065>:5: RuntimeWarning: Channel names are not unique, found duplicates for: {'T8-P8'}. Applying running numbers for duplicates.\n",
            "  raw = mne.io.read_raw_edf(edf_path, preload=False, verbose=False)\n",
            "<ipython-input-10-acee57bf1065>:5: RuntimeWarning: Channel names are not unique, found duplicates for: {'T8-P8'}. Applying running numbers for duplicates.\n",
            "  raw = mne.io.read_raw_edf(edf_path, preload=False, verbose=False)\n"
          ]
        }
      ]
    },
    {
      "cell_type": "code",
      "source": [
        "X_np = np.stack(X_final)\n",
        "y_np = np.array(y_final)\n",
        "idx = np.random.permutation(len(X_np))\n",
        "X_np = X_np[idx]\n",
        "y_np = y_np[idx]"
      ],
      "metadata": {
        "id": "uusm_jQuY4S3",
        "colab": {
          "base_uri": "https://localhost:8080/",
          "height": 216
        },
        "outputId": "820f9071-3a67-4991-b06b-429e453bb2a1"
      },
      "execution_count": 11,
      "outputs": [
        {
          "output_type": "error",
          "ename": "NameError",
          "evalue": "name 'X_final' is not defined",
          "traceback": [
            "\u001b[0;31m---------------------------------------------------------------------------\u001b[0m",
            "\u001b[0;31mNameError\u001b[0m                                 Traceback (most recent call last)",
            "\u001b[0;32m<ipython-input-11-5c673e4c1ec0>\u001b[0m in \u001b[0;36m<cell line: 0>\u001b[0;34m()\u001b[0m\n\u001b[0;32m----> 1\u001b[0;31m \u001b[0mX_np\u001b[0m \u001b[0;34m=\u001b[0m \u001b[0mnp\u001b[0m\u001b[0;34m.\u001b[0m\u001b[0mstack\u001b[0m\u001b[0;34m(\u001b[0m\u001b[0mX_final\u001b[0m\u001b[0;34m)\u001b[0m\u001b[0;34m\u001b[0m\u001b[0;34m\u001b[0m\u001b[0m\n\u001b[0m\u001b[1;32m      2\u001b[0m \u001b[0my_np\u001b[0m \u001b[0;34m=\u001b[0m \u001b[0mnp\u001b[0m\u001b[0;34m.\u001b[0m\u001b[0marray\u001b[0m\u001b[0;34m(\u001b[0m\u001b[0my_final\u001b[0m\u001b[0;34m)\u001b[0m\u001b[0;34m\u001b[0m\u001b[0;34m\u001b[0m\u001b[0m\n\u001b[1;32m      3\u001b[0m \u001b[0midx\u001b[0m \u001b[0;34m=\u001b[0m \u001b[0mnp\u001b[0m\u001b[0;34m.\u001b[0m\u001b[0mrandom\u001b[0m\u001b[0;34m.\u001b[0m\u001b[0mpermutation\u001b[0m\u001b[0;34m(\u001b[0m\u001b[0mlen\u001b[0m\u001b[0;34m(\u001b[0m\u001b[0mX_np\u001b[0m\u001b[0;34m)\u001b[0m\u001b[0;34m)\u001b[0m\u001b[0;34m\u001b[0m\u001b[0;34m\u001b[0m\u001b[0m\n\u001b[1;32m      4\u001b[0m \u001b[0mX_np\u001b[0m \u001b[0;34m=\u001b[0m \u001b[0mX_np\u001b[0m\u001b[0;34m[\u001b[0m\u001b[0midx\u001b[0m\u001b[0;34m]\u001b[0m\u001b[0;34m\u001b[0m\u001b[0;34m\u001b[0m\u001b[0m\n\u001b[1;32m      5\u001b[0m \u001b[0my_np\u001b[0m \u001b[0;34m=\u001b[0m \u001b[0my_np\u001b[0m\u001b[0;34m[\u001b[0m\u001b[0midx\u001b[0m\u001b[0;34m]\u001b[0m\u001b[0;34m\u001b[0m\u001b[0;34m\u001b[0m\u001b[0m\n",
            "\u001b[0;31mNameError\u001b[0m: name 'X_final' is not defined"
          ]
        }
      ]
    },
    {
      "cell_type": "code",
      "source": [],
      "metadata": {
        "id": "QX3CD3V0hcR4"
      },
      "execution_count": null,
      "outputs": []
    },
    {
      "cell_type": "code",
      "source": [
        "output_path = os.path.join(edf_dir, \"mini_chbmit_balanced.pkl\")\n",
        "with open(output_path, \"wb\") as f:\n",
        "    pickle.dump({\"data\": X_np, \"labels\": y_np}, f)"
      ],
      "metadata": {
        "id": "i1pc5dc3Zo1i"
      },
      "execution_count": 49,
      "outputs": []
    },
    {
      "cell_type": "code",
      "source": [
        "print(\"Saved to:\", output_path)\n",
        "print(\"Label counts:\", np.bincount(y_np))\n",
        "print(\"Shape:\", X_np.shape)"
      ],
      "metadata": {
        "colab": {
          "base_uri": "https://localhost:8080/"
        },
        "id": "Fw23waekZrB7",
        "outputId": "b28e6e9c-1e62-4267-fc5e-c1f21ac4bf30"
      },
      "execution_count": 50,
      "outputs": [
        {
          "output_type": "stream",
          "name": "stdout",
          "text": [
            "Saved to: /content/drive/MyDrive/Colab Notebooks/Purdue Coursework/ECE570_Project/mini_chbmit_balanced.pkl\n",
            "Label counts: [400  80]\n",
            "Shape: (480, 23, 1280)\n"
          ]
        }
      ]
    },
    {
      "cell_type": "code",
      "source": [
        "import pickle\n",
        "\n",
        "# Load the dataset\n",
        "with open(\"/content/drive/MyDrive/Colab Notebooks/Purdue Coursework/ECE570_Project/mini_chbmit_balanced.pkl\", \"rb\") as f:\n",
        "    data = pickle.load(f)\n",
        "\n",
        "X = data[\"data\"]       # shape: (N, C, T)\n",
        "y = data[\"labels\"]     # shape: (N,)\n",
        "\n",
        "# Print results\n",
        "print(\"Data shape:\", X.shape)\n",
        "print(\"Label distribution:\", np.bincount(y))\n"
      ],
      "metadata": {
        "id": "k23Ad9WLZ6NK",
        "colab": {
          "base_uri": "https://localhost:8080/"
        },
        "outputId": "07a365d5-4d45-40ec-f8b9-48fe4359edd7"
      },
      "execution_count": 51,
      "outputs": [
        {
          "output_type": "stream",
          "name": "stdout",
          "text": [
            "Data shape: (480, 23, 1280)\n",
            "Label distribution: [400  80]\n"
          ]
        }
      ]
    },
    {
      "cell_type": "code",
      "source": [
        "np.unique(y, return_counts=True)"
      ],
      "metadata": {
        "colab": {
          "base_uri": "https://localhost:8080/"
        },
        "id": "oodtwT93DqiE",
        "outputId": "f95a0950-f1da-405b-fb1a-3e727aa94462"
      },
      "execution_count": 52,
      "outputs": [
        {
          "output_type": "execute_result",
          "data": {
            "text/plain": [
              "(array([0, 1]), array([400,  80]))"
            ]
          },
          "metadata": {},
          "execution_count": 52
        }
      ]
    },
    {
      "cell_type": "code",
      "source": [],
      "metadata": {
        "id": "x4F_L95LGr8Q"
      },
      "execution_count": null,
      "outputs": []
    },
    {
      "cell_type": "code",
      "source": [
        "X_final, y_final = [], []\n",
        "\n",
        "# Process each EDF file\n",
        "for edf_path in edf_files:\n",
        "    edf_name = os.path.basename(edf_path)\n",
        "    raw = mne.io.read_raw_edf(edf_path, preload=False, verbose=False)\n",
        "    seizure_ranges = seizure_intervals.get(edf_name, [])\n",
        "    n_samples = int(raw.n_times)\n",
        "    n_channels = len(raw.info['ch_names'])\n",
        "\n",
        "    # Loop with 1-sec stride for seizure, 5-sec stride for non-seizure\n",
        "    for start_idx in range(0, n_samples - window_size + 1, sampling_rate):\n",
        "        end_idx = start_idx + window_size\n",
        "        center_sec = (start_idx + end_idx) / 2 / sampling_rate\n",
        "\n",
        "        is_seizure = any(sz_start <= center_sec <= sz_end for sz_start, sz_end in seizure_ranges)\n",
        "\n",
        "        # Only keep non-seizure windows every 5 seconds\n",
        "        if not is_seizure and (start_idx % (5 * sampling_rate) != 0):\n",
        "            continue\n",
        "        if is_seizure and y_final.count(1) >= target_seizure:\n",
        "            continue\n",
        "        if not is_seizure and y_final.count(0) >= target_nonseizure:\n",
        "            continue\n",
        "\n",
        "        try:\n",
        "            segment = raw.get_data(start=start_idx, stop=end_idx)\n",
        "            if segment.shape != (n_channels, window_size):\n",
        "                continue\n",
        "            X_final.append(segment.astype(np.float32))\n",
        "            y_final.append(1 if is_seizure else 0)\n",
        "        except Exception:\n",
        "            continue"
      ],
      "metadata": {
        "colab": {
          "base_uri": "https://localhost:8080/"
        },
        "id": "fRJQ4AWFY2oM",
        "outputId": "8826b728-da24-49d3-e156-95d4192014e4"
      },
      "execution_count": 46,
      "outputs": [
        {
          "output_type": "stream",
          "name": "stderr",
          "text": [
            "<ipython-input-46-6ecb88f1e2c3>:6: RuntimeWarning: Channel names are not unique, found duplicates for: {'T8-P8'}. Applying running numbers for duplicates.\n",
            "  raw = mne.io.read_raw_edf(edf_path, preload=False, verbose=False)\n",
            "<ipython-input-46-6ecb88f1e2c3>:6: RuntimeWarning: Channel names are not unique, found duplicates for: {'T8-P8'}. Applying running numbers for duplicates.\n",
            "  raw = mne.io.read_raw_edf(edf_path, preload=False, verbose=False)\n",
            "<ipython-input-46-6ecb88f1e2c3>:6: RuntimeWarning: Channel names are not unique, found duplicates for: {'T8-P8'}. Applying running numbers for duplicates.\n",
            "  raw = mne.io.read_raw_edf(edf_path, preload=False, verbose=False)\n",
            "<ipython-input-46-6ecb88f1e2c3>:6: RuntimeWarning: Channel names are not unique, found duplicates for: {'T8-P8'}. Applying running numbers for duplicates.\n",
            "  raw = mne.io.read_raw_edf(edf_path, preload=False, verbose=False)\n",
            "<ipython-input-46-6ecb88f1e2c3>:6: RuntimeWarning: Channel names are not unique, found duplicates for: {'T8-P8'}. Applying running numbers for duplicates.\n",
            "  raw = mne.io.read_raw_edf(edf_path, preload=False, verbose=False)\n",
            "<ipython-input-46-6ecb88f1e2c3>:6: RuntimeWarning: Channel names are not unique, found duplicates for: {'T8-P8'}. Applying running numbers for duplicates.\n",
            "  raw = mne.io.read_raw_edf(edf_path, preload=False, verbose=False)\n",
            "<ipython-input-46-6ecb88f1e2c3>:6: RuntimeWarning: Channel names are not unique, found duplicates for: {'T8-P8'}. Applying running numbers for duplicates.\n",
            "  raw = mne.io.read_raw_edf(edf_path, preload=False, verbose=False)\n",
            "<ipython-input-46-6ecb88f1e2c3>:6: RuntimeWarning: Channel names are not unique, found duplicates for: {'T8-P8'}. Applying running numbers for duplicates.\n",
            "  raw = mne.io.read_raw_edf(edf_path, preload=False, verbose=False)\n",
            "<ipython-input-46-6ecb88f1e2c3>:6: RuntimeWarning: Channel names are not unique, found duplicates for: {'T8-P8'}. Applying running numbers for duplicates.\n",
            "  raw = mne.io.read_raw_edf(edf_path, preload=False, verbose=False)\n",
            "<ipython-input-46-6ecb88f1e2c3>:6: RuntimeWarning: Channel names are not unique, found duplicates for: {'T8-P8'}. Applying running numbers for duplicates.\n",
            "  raw = mne.io.read_raw_edf(edf_path, preload=False, verbose=False)\n",
            "<ipython-input-46-6ecb88f1e2c3>:6: RuntimeWarning: Channel names are not unique, found duplicates for: {'T8-P8'}. Applying running numbers for duplicates.\n",
            "  raw = mne.io.read_raw_edf(edf_path, preload=False, verbose=False)\n",
            "<ipython-input-46-6ecb88f1e2c3>:6: RuntimeWarning: Channel names are not unique, found duplicates for: {'T8-P8'}. Applying running numbers for duplicates.\n",
            "  raw = mne.io.read_raw_edf(edf_path, preload=False, verbose=False)\n",
            "<ipython-input-46-6ecb88f1e2c3>:6: RuntimeWarning: Channel names are not unique, found duplicates for: {'T8-P8'}. Applying running numbers for duplicates.\n",
            "  raw = mne.io.read_raw_edf(edf_path, preload=False, verbose=False)\n"
          ]
        }
      ]
    }
  ]
}